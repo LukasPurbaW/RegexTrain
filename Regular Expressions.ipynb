{
 "cells": [
  {
   "cell_type": "markdown",
   "id": "informative-buffalo",
   "metadata": {},
   "source": [
    "Regular Expressionss = regex or regexp is essentially a search query for text that's expressed by string pattern\n",
    "\n",
    "When you run a search against a particular piece of text, anything that matches a regular expression pattern you specified, is returned as a result of the search. Regular expressions let you answer the questions like what are all the four-letter words in a file? Or how many different error types are there in this error log? "
   ]
  },
  {
   "cell_type": "code",
   "execution_count": 20,
   "id": "industrial-friday",
   "metadata": {},
   "outputs": [
    {
     "name": "stdout",
     "output_type": "stream",
     "text": [
      "12345\n"
     ]
    }
   ],
   "source": [
    "import re\n",
    "log = \"July 31 07:51:48 mycomputer bad_process[12345]: ERROR Performing package upgrade\"\n",
    "regex1 = r\"\\[(\\d+)]\"\n",
    "result =re.search(regex1, log)\n",
    "print(result[1])"
   ]
  },
  {
   "cell_type": "markdown",
   "id": "cooperative-circuit",
   "metadata": {},
   "source": [
    "grep() = command line regex tool"
   ]
  },
  {
   "cell_type": "code",
   "execution_count": 2,
   "id": "liquid-leader",
   "metadata": {},
   "outputs": [
    {
     "name": "stdout",
     "output_type": "stream",
     "text": [
      "<re.Match object; span=(2, 5), match='aza'>\n"
     ]
    }
   ],
   "source": [
    "import re\n",
    "result = re.search(r\"aza\",\"plaza\")\n",
    "#always use raw string on regular python\n",
    "print(result)"
   ]
  },
  {
   "cell_type": "code",
   "execution_count": 22,
   "id": "flush-substitute",
   "metadata": {},
   "outputs": [
    {
     "name": "stdout",
     "output_type": "stream",
     "text": [
      "<re.Match object; span=(1, 4), match='aza'>\n"
     ]
    }
   ],
   "source": [
    "result = re.search(r\"aza\",\"bazaar\")\n",
    "print(result)"
   ]
  },
  {
   "cell_type": "code",
   "execution_count": 23,
   "id": "rental-adventure",
   "metadata": {},
   "outputs": [
    {
     "name": "stdout",
     "output_type": "stream",
     "text": [
      "None\n"
     ]
    }
   ],
   "source": [
    "result = re.search(r\"aza\",\"market\")\n",
    "print(result)"
   ]
  },
  {
   "cell_type": "code",
   "execution_count": 24,
   "id": "public-circumstances",
   "metadata": {},
   "outputs": [
    {
     "name": "stdout",
     "output_type": "stream",
     "text": [
      "<re.Match object; span=(0, 4), match='peng'>\n"
     ]
    }
   ],
   "source": [
    "print(re.search(r\"p.ng\",\"penguin\"))"
   ]
  },
  {
   "cell_type": "code",
   "execution_count": 26,
   "id": "funny-lodge",
   "metadata": {},
   "outputs": [
    {
     "name": "stdout",
     "output_type": "stream",
     "text": [
      "<re.Match object; span=(0, 3), match='aag'>\n"
     ]
    }
   ],
   "source": [
    "print(re.search(r\"^aag\",\"aagtwg\"))"
   ]
  },
  {
   "cell_type": "code",
   "execution_count": 27,
   "id": "loved-audit",
   "metadata": {},
   "outputs": [
    {
     "name": "stdout",
     "output_type": "stream",
     "text": [
      "True\n",
      "False\n",
      "True\n"
     ]
    }
   ],
   "source": [
    "import re\n",
    "def check_aei (text):\n",
    "  result = re.search(r\"a.e.i\", text)\n",
    "  return result != None\n",
    "\n",
    "print(check_aei(\"academia\")) # True\n",
    "print(check_aei(\"aerial\")) # False\n",
    "print(check_aei(\"paramedic\")) # True"
   ]
  },
  {
   "cell_type": "code",
   "execution_count": 31,
   "id": "growing-chambers",
   "metadata": {},
   "outputs": [
    {
     "name": "stdout",
     "output_type": "stream",
     "text": [
      "<re.Match object; span=(1, 4), match='agT'>\n"
     ]
    }
   ],
   "source": [
    "print(re.search(r\"a.t\",\"aagTwg\", re.IGNORECASE))"
   ]
  },
  {
   "cell_type": "markdown",
   "id": "heated-tunisia",
   "metadata": {},
   "source": [
    "## Wildcards and Char Classes"
   ]
  },
  {
   "cell_type": "code",
   "execution_count": 32,
   "id": "composed-ecuador",
   "metadata": {},
   "outputs": [
    {
     "name": "stdout",
     "output_type": "stream",
     "text": [
      "<re.Match object; span=(0, 6), match='Python'>\n"
     ]
    }
   ],
   "source": [
    "print(re.search(r\"[Pp]ython\",\"Python\"))"
   ]
  },
  {
   "cell_type": "code",
   "execution_count": 33,
   "id": "bacterial-richards",
   "metadata": {},
   "outputs": [
    {
     "name": "stdout",
     "output_type": "stream",
     "text": [
      "None\n"
     ]
    }
   ],
   "source": [
    "print(re.search(r\"[a-z]ython\",\"Python\"))"
   ]
  },
  {
   "cell_type": "code",
   "execution_count": 35,
   "id": "active-singapore",
   "metadata": {},
   "outputs": [
    {
     "name": "stdout",
     "output_type": "stream",
     "text": [
      "<re.Match object; span=(14, 17), match='hon'>\n"
     ]
    }
   ],
   "source": [
    "print(re.search(r\"[a-z]on\",\"Prett cool qython\"))"
   ]
  },
  {
   "cell_type": "code",
   "execution_count": 37,
   "id": "liked-point",
   "metadata": {},
   "outputs": [
    {
     "name": "stdout",
     "output_type": "stream",
     "text": [
      "<re.Match object; span=(0, 8), match='cloud2on'>\n"
     ]
    }
   ],
   "source": [
    "print(re.search(\"cloud[a-zA-Z0-9]on\",\"cloud2on\"))"
   ]
  },
  {
   "cell_type": "code",
   "execution_count": 38,
   "id": "popular-offset",
   "metadata": {},
   "outputs": [
    {
     "name": "stdout",
     "output_type": "stream",
     "text": [
      "True\n",
      "False\n",
      "True\n",
      "True\n",
      "False\n"
     ]
    }
   ],
   "source": [
    "import re\n",
    "def check_punctuation (text):\n",
    "  result = re.search(r\"[!-),-/<-?]\", text)\n",
    "  return result != None\n",
    "\n",
    "print(check_punctuation(\"This is a sentence that ends with a period.\")) # True\n",
    "print(check_punctuation(\"This is a sentence fragment without a period\")) # False\n",
    "print(check_punctuation(\"Aren't regular expressions awesome?\")) # True\n",
    "print(check_punctuation(\"Wow! We're really picking up some steam now!\")) # True\n",
    "print(check_punctuation(\"End of the line\")) # False"
   ]
  },
  {
   "cell_type": "code",
   "execution_count": 39,
   "id": "coated-madness",
   "metadata": {},
   "outputs": [
    {
     "name": "stdout",
     "output_type": "stream",
     "text": [
      "<re.Match object; span=(4, 5), match=' '>\n"
     ]
    }
   ],
   "source": [
    "print(re.search(r\"[^a-zA-Z]\",\"This is a sentence with a space\"))"
   ]
  },
  {
   "cell_type": "code",
   "execution_count": 48,
   "id": "bored-elements",
   "metadata": {},
   "outputs": [
    {
     "name": "stdout",
     "output_type": "stream",
     "text": [
      "<re.Match object; span=(31, 32), match='.'>\n",
      "<re.Match object; span=(31, 32), match='2'>\n"
     ]
    }
   ],
   "source": [
    "print(re.search(r\"[^a-zA-Z ]\",\"This is a sentence with a space.\"))\n",
    "#because we add space, so it exclude the char inside[]\n",
    "print(re.search(r\"[^a-zA-Z ]\",\"This is a sentence with a space2\"))\n",
    "#because we add space, so it exclude the char inside[]"
   ]
  },
  {
   "cell_type": "code",
   "execution_count": 52,
   "id": "loving-halloween",
   "metadata": {},
   "outputs": [
    {
     "name": "stdout",
     "output_type": "stream",
     "text": [
      "<re.Match object; span=(30, 33), match='cat'>\n"
     ]
    }
   ],
   "source": [
    "print(re.search(r\"cat|dog\",\"This is sentence with a space catttin and hotdog.\"))\n",
    "#because we add space, so it exclude the char inside[]"
   ]
  },
  {
   "cell_type": "code",
   "execution_count": 56,
   "id": "simple-longer",
   "metadata": {},
   "outputs": [
    {
     "name": "stdout",
     "output_type": "stream",
     "text": [
      "['dog c', 'dog c', 'cat', 'cat']\n"
     ]
    }
   ],
   "source": [
    "print(re.findall(r\"cat|dog [a-z]\",\"This is a sentence with a space dog cat dog cat cata cata.\"))\n",
    "#because we add space, so it exclude the char inside[]"
   ]
  },
  {
   "cell_type": "markdown",
   "id": "convenient-medium",
   "metadata": {},
   "source": [
    "## Repetition Qualifiers"
   ]
  },
  {
   "cell_type": "code",
   "execution_count": 10,
   "id": "wrong-mirror",
   "metadata": {},
   "outputs": [
    {
     "name": "stdout",
     "output_type": "stream",
     "text": [
      "<re.Match object; span=(0, 9), match='pylahropy'>\n"
     ]
    }
   ],
   "source": [
    "print(re.search(r\"py.*y\",\"pylahropy\"))\n",
    "#the stars take the between leters"
   ]
  },
  {
   "cell_type": "code",
   "execution_count": 11,
   "id": "daily-accreditation",
   "metadata": {},
   "outputs": [
    {
     "name": "stdout",
     "output_type": "stream",
     "text": [
      "<re.Match object; span=(1, 4), match='ool'>\n"
     ]
    }
   ],
   "source": [
    "print(re.search(r\"o+l+\",\"wool woool lllle lily nonon\"))"
   ]
  },
  {
   "cell_type": "code",
   "execution_count": 12,
   "id": "advised-catalyst",
   "metadata": {},
   "outputs": [
    {
     "name": "stdout",
     "output_type": "stream",
     "text": [
      "<re.Match object; span=(7, 11), match='each'>\n"
     ]
    }
   ],
   "source": [
    "print(re.search(r\"p?each\",\"I like each\"))"
   ]
  },
  {
   "cell_type": "code",
   "execution_count": 13,
   "id": "emotional-collect",
   "metadata": {},
   "outputs": [
    {
     "name": "stdout",
     "output_type": "stream",
     "text": [
      "<re.Match object; span=(7, 12), match='peach'>\n"
     ]
    }
   ],
   "source": [
    "print(re.search(r\"p?each\",\"I like peach\"))"
   ]
  },
  {
   "cell_type": "code",
   "execution_count": null,
   "id": "accessible-status",
   "metadata": {},
   "outputs": [],
   "source": []
  }
 ],
 "metadata": {
  "kernelspec": {
   "display_name": "Python 3",
   "language": "python",
   "name": "python3"
  },
  "language_info": {
   "codemirror_mode": {
    "name": "ipython",
    "version": 3
   },
   "file_extension": ".py",
   "mimetype": "text/x-python",
   "name": "python",
   "nbconvert_exporter": "python",
   "pygments_lexer": "ipython3",
   "version": "3.7.7"
  }
 },
 "nbformat": 4,
 "nbformat_minor": 5
}
